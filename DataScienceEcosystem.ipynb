{
 "cells": [
  {
   "cell_type": "markdown",
   "id": "e347e1f0-f330-4a5b-a528-d079fd26f1af",
   "metadata": {
    "tags": []
   },
   "source": [
    "# Data Science Tools and Ecosystem"
   ]
  },
  {
   "cell_type": "markdown",
   "id": "bcb86ad9-2933-4415-850d-694a14a861e7",
   "metadata": {},
   "source": [
    "In this notebook, Data Science Tools and Ecosystem are summarized."
   ]
  },
  {
   "cell_type": "markdown",
   "id": "2d84abd5-d8c5-4e3c-afbc-b9b1460829b7",
   "metadata": {},
   "source": [
    "Some of the popular languages that Data Scientists use are:\n",
    "1. Python\n",
    "2. R\n",
    "3. SQL"
   ]
  },
  {
   "cell_type": "markdown",
   "id": "b07018e8-5312-4734-9a88-1ca59cfbea34",
   "metadata": {},
   "source": [
    "Some of the commonly used libraries used by Data Scientists include:\n",
    "1. Ggplot\n",
    "2. Pandas\n",
    "3. Numpy\n",
    "4. Matplotlib"
   ]
  },
  {
   "cell_type": "markdown",
   "id": "71e70437-d56f-41bd-b59b-aa9dd21ba210",
   "metadata": {},
   "source": [
    "Data Science Tools\n",
    "__________\n",
    "JupyterLab\n",
    "__________\n",
    "Spyder\n",
    "________\n",
    "R studio"
   ]
  },
  {
   "cell_type": "markdown",
   "id": "1f7c7944-2e9c-47c9-9b3b-7a9dcfba82b6",
   "metadata": {},
   "source": [
    "### Below are a few examples of evaluating arithmetic expressions in Python"
   ]
  },
  {
   "cell_type": "code",
   "execution_count": 4,
   "id": "36b536aa-c0d9-4067-b7d6-0247d25d6312",
   "metadata": {
    "tags": []
   },
   "outputs": [
    {
     "data": {
      "text/plain": [
       "17"
      ]
     },
     "execution_count": 4,
     "metadata": {},
     "output_type": "execute_result"
    }
   ],
   "source": [
    "# This a simple arithmetic expression to mutiply then add integers\n",
    "(3*4)+5"
   ]
  },
  {
   "cell_type": "code",
   "execution_count": 5,
   "id": "c8112a4e-e56b-4c00-af0e-77ef163ec958",
   "metadata": {
    "tags": []
   },
   "outputs": [
    {
     "data": {
      "text/plain": [
       "3.3333333333333335"
      ]
     },
     "execution_count": 5,
     "metadata": {},
     "output_type": "execute_result"
    }
   ],
   "source": [
    "# This will convert 200 minutes to hours by diving by 60\n",
    "200/60"
   ]
  },
  {
   "cell_type": "markdown",
   "id": "4a0d193b-926d-4aaa-acf7-e6b41c6d4366",
   "metadata": {},
   "source": [
    "**Objectives:**\n",
    "- List of popular languages in data science\n",
    "- List of commonly used libraries in data science\n",
    "- List of some development environment in data science"
   ]
  },
  {
   "cell_type": "markdown",
   "id": "bcbe3c50-6093-40f0-b860-4c8c2ed81a0b",
   "metadata": {},
   "source": [
    "## Author\n",
    "Opeodu Abayomi"
   ]
  },
  {
   "cell_type": "code",
   "execution_count": null,
   "id": "f2012614-c580-45ba-9a89-06c87db8a8bf",
   "metadata": {},
   "outputs": [],
   "source": []
  }
 ],
 "metadata": {
  "kernelspec": {
   "display_name": "Python",
   "language": "python",
   "name": "conda-env-python-py"
  },
  "language_info": {
   "codemirror_mode": {
    "name": "ipython",
    "version": 3
   },
   "file_extension": ".py",
   "mimetype": "text/x-python",
   "name": "python",
   "nbconvert_exporter": "python",
   "pygments_lexer": "ipython3",
   "version": "3.7.12"
  }
 },
 "nbformat": 4,
 "nbformat_minor": 5
}
